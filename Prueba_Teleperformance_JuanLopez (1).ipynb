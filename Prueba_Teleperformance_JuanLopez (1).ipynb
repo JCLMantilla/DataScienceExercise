{
  "nbformat": 4,
  "nbformat_minor": 0,
  "metadata": {
    "colab": {
      "name": "Prueba_Teleperformance_JuanLopez.ipynb",
      "provenance": [],
      "collapsed_sections": []
    },
    "kernelspec": {
      "name": "python3",
      "display_name": "Python 3"
    },
    "language_info": {
      "name": "python"
    }
  },
  "cells": [
    {
      "cell_type": "code",
      "execution_count": null,
      "metadata": {
        "id": "qleQFI79DEpc"
      },
      "outputs": [],
      "source": [
        "import numpy as np\n",
        "import pandas as pd\n",
        "import sklearn\n",
        "import matplotlib.pyplot as plt\n"
      ]
    },
    {
      "cell_type": "code",
      "source": [
        "!git clone https://github.com/JCLMantilla/DataScienceExercise.git\n"
      ],
      "metadata": {
        "id": "ra-bS-KEDNE4",
        "colab": {
          "base_uri": "https://localhost:8080/"
        },
        "outputId": "c823965b-c8b5-4f73-b9a6-8e0e382a10c6"
      },
      "execution_count": null,
      "outputs": [
        {
          "output_type": "stream",
          "name": "stdout",
          "text": [
            "fatal: destination path 'DataScienceExercise' already exists and is not an empty directory.\n"
          ]
        }
      ]
    },
    {
      "cell_type": "code",
      "source": [
        "Data_Original=pd.read_excel('/content/DataScienceExercise/base de datos data scien _Assesment_Cargo_Analitico_V01.xlsx')"
      ],
      "metadata": {
        "id": "y5ZTlN_nOZg8"
      },
      "execution_count": null,
      "outputs": []
    },
    {
      "cell_type": "code",
      "source": [
        "Data=Data_Original\n",
        "print('Data Shape: '+str(Data.shape))\n",
        "print('Features: ')\n",
        "print(str(Data.columns.values))"
      ],
      "metadata": {
        "colab": {
          "base_uri": "https://localhost:8080/"
        },
        "id": "I6sx28HiPE3b",
        "outputId": "cc93c8d3-0b03-4cf4-a136-a22dede69b8a"
      },
      "execution_count": null,
      "outputs": [
        {
          "output_type": "stream",
          "name": "stdout",
          "text": [
            "Data Shape: (10000, 27)\n",
            "Features: \n",
            "['Estado Cliente al final del periodo' 'Churn Total' 'Score A' 'Score B'\n",
            " 'Tipo Vivienda' 'Zona Instalacion' 'Distrito' 'Estrato Declarado'\n",
            " 'Producto' 'Premium Movie' 'Premium OBH' 'Premium Adultos' 'Tecnologia'\n",
            " 'Catidad Decodificadores' 'Decodificadores Regular'\n",
            " 'Decodificadores  DVR' 'Decodificadores  HD' 'Decodificadores  \"HD ONLY\"'\n",
            " 'Metodo de Pago Estandarizado' 'Antigüedad' 'Canal Estandarizado'\n",
            " 'Score Aprobación' 'Tecnología GO' 'Revista TELCO'\n",
            " 'Cantidad Decodificadores Total' 'Tipo Suscripcion'\n",
            " 'Campaña de Cobranza Actual']\n"
          ]
        }
      ]
    },
    {
      "cell_type": "markdown",
      "source": [
        "# **Analisis exploratorio**"
      ],
      "metadata": {
        "id": "o1C3MHqYPtfw"
      }
    },
    {
      "cell_type": "markdown",
      "source": [
        " **Balance de clases:**\n"
      ],
      "metadata": {
        "id": "C36WYoBLv5R5"
      }
    },
    {
      "cell_type": "code",
      "source": [
        "print('Vamos a contar cuantos elementos hay en cada clase: ')\n",
        "print(Data['Churn Total'].value_counts())\n",
        "print('Las clases estan balanceadas! esto es muy muy bueno a la hora de entrenar algun modelo')\n"
      ],
      "metadata": {
        "colab": {
          "base_uri": "https://localhost:8080/"
        },
        "id": "pf1u7W9KPQSP",
        "outputId": "e89108d7-55c9-407c-98a9-c0f935a79274"
      },
      "execution_count": null,
      "outputs": [
        {
          "output_type": "stream",
          "name": "stdout",
          "text": [
            "Vamos a contar cuantos elementos hay en cada clase: \n",
            "1    5063\n",
            "0    4937\n",
            "Name: Churn Total, dtype: int64\n",
            "Las clases estan balanceadas! esto es muy muy bueno a la hora de entrenar algun modelo\n"
          ]
        }
      ]
    },
    {
      "cell_type": "markdown",
      "source": [
        "**Analisis de Scores A y B:** Vamos a investigar algunas propiedades de los Scores A y B, y vamos a intentar determinar cual de estas tiene una mayor relevancia en cuanto a poder predictivo de el Churn Total. Para esto vamos a usar la correlación y vamos a ajustar un modelo simple que nos ayude a corroborar los resultados."
      ],
      "metadata": {
        "id": "rQtk3Cz7xCfY"
      }
    },
    {
      "cell_type": "code",
      "source": [
        "#Vamos a checar como estan distribuidos los Scores A y B, y de paso vamos a poder ver los valores minimos y maximos\n",
        "print('Histogramas de Score A y B: ')\n",
        "Data[['Score A','Score B']].hist(bins=15)\n",
        "\n",
        "\n",
        "\n",
        "print('Vamos a analizar el procentaje de valores faltantes en cada score (NaN)')\n",
        "a=Data['Score A'].isna().sum()*100/Data['Score A'].shape[0]\n",
        "b=Data['Score B'].isna().sum()*100/Data['Score B'].shape[0]\n",
        "print('Missing values Score A: '+str(a)+'%')\n",
        "print('Missing values Score B: '+str(b)+'%')\n",
        "print('Como vemos en cada score hacen falta algunos datos, sin embargo no considero que sea muy influyente ')\n",
        "\n",
        "\n",
        "#Vamos a sacar las correlaciones entre los scores y el churn total:\n",
        "Data[['Churn Total', 'Score A', 'Score B']].corr()[:][:1]"
      ],
      "metadata": {
        "colab": {
          "base_uri": "https://localhost:8080/",
          "height": 432
        },
        "id": "JoIBQlcSxIDT",
        "outputId": "ae302707-6218-4fc9-f613-e873c956e78a"
      },
      "execution_count": null,
      "outputs": [
        {
          "output_type": "stream",
          "name": "stdout",
          "text": [
            "Histogramas de Score A y B: \n",
            "Vamos a analizar el procentaje de valores faltantes en cada score (NaN)\n",
            "Missing values Score A: 9.11%\n",
            "Missing values Score B: 1.41%\n",
            "Como vemos en cada score hacen falta algunos datos, sin embargo no considero que sea muy influyente \n"
          ]
        },
        {
          "output_type": "execute_result",
          "data": {
            "text/html": [
              "<div>\n",
              "<style scoped>\n",
              "    .dataframe tbody tr th:only-of-type {\n",
              "        vertical-align: middle;\n",
              "    }\n",
              "\n",
              "    .dataframe tbody tr th {\n",
              "        vertical-align: top;\n",
              "    }\n",
              "\n",
              "    .dataframe thead th {\n",
              "        text-align: right;\n",
              "    }\n",
              "</style>\n",
              "<table border=\"1\" class=\"dataframe\">\n",
              "  <thead>\n",
              "    <tr style=\"text-align: right;\">\n",
              "      <th></th>\n",
              "      <th>Churn Total</th>\n",
              "      <th>Score A</th>\n",
              "      <th>Score B</th>\n",
              "    </tr>\n",
              "  </thead>\n",
              "  <tbody>\n",
              "    <tr>\n",
              "      <th>Churn Total</th>\n",
              "      <td>1.0</td>\n",
              "      <td>0.19118</td>\n",
              "      <td>-0.316711</td>\n",
              "    </tr>\n",
              "  </tbody>\n",
              "</table>\n",
              "</div>"
            ],
            "text/plain": [
              "             Churn Total  Score A   Score B\n",
              "Churn Total          1.0  0.19118 -0.316711"
            ]
          },
          "metadata": {},
          "execution_count": 158
        },
        {
          "output_type": "display_data",
          "data": {
            "image/png": "[encoded data removed]",
            "text/plain": [
              "<Figure size 432x288 with 2 Axes>"
            ]
          },
          "metadata": {
            "needs_background": "light"
          }
        }
      ]
    },
    {
      "cell_type": "code",
      "source": [
        "#Vamos a entrenar una regresion logistica para ver que tanta importancia le da el modelo a cada score.\n",
        "\n",
        "from sklearn.linear_model import LogisticRegression\n",
        "\n",
        "Logistic_Data=Data[['Churn Total','Score A', 'Score B']].dropna()\n",
        "\n",
        "\n",
        "\n",
        "x_train=Logistic_Data[['Score A', 'Score B']]\n",
        "y_train=Logistic_Data['Churn Total']\n",
        "\n",
        "\n",
        "#NOTA: Es importantisimo normalizar los datos y sustraer la media, de esta forma nos aseguramos que la importancia de los scores sean comparables\n",
        "scaler = sklearn.preprocessing.StandardScaler().fit(x_train)\n",
        "scaler\n",
        "x_train = scaler.transform(x_train)\n",
        "\n",
        "logistic_regression_model = LogisticRegression()\n",
        "logistic_regression_model.fit(x_train, y_train)\n",
        "importance_A, importance_B= logistic_regression_model.coef_[0]\n",
        "\n",
        "print('importance A = '+str(importance_A))\n",
        "print('importance B = '+str(importance_B))\n"
      ],
      "metadata": {
        "colab": {
          "base_uri": "https://localhost:8080/"
        },
        "id": "WNI_Z1W036R8",
        "outputId": "b9e295c9-aa4c-4570-e852-86868539a03d"
      },
      "execution_count": null,
      "outputs": [
        {
          "output_type": "stream",
          "name": "stdout",
          "text": [
            "importance A = 0.48049781801049146\n",
            "importance B = -0.6833863111525518\n"
          ]
        }
      ]
    },
    {
      "cell_type": "markdown",
      "source": [
        "**Valores faltantes (NaN):** Vamos a eliminar las filas que contengan por lo menos un valor faltante. Vamos a perder bastantes datos, pero esto es importante para realizar un analisis completo de todas las feautures al mismo tiempo."
      ],
      "metadata": {
        "id": "WRryJ3IRwG8I"
      }
    },
    {
      "cell_type": "code",
      "source": [
        "#Vamos a sacar todas las filas que tengan un NaN en ellas: \n",
        "Clean_Data=Data.dropna()\n",
        "\n",
        "print('Una vez eliminados todos los ejemplos que tenian por lo menos un NaN, el shape del set de entrenamiento es: ')\n",
        "Clean_Data.shape"
      ],
      "metadata": {
        "colab": {
          "base_uri": "https://localhost:8080/"
        },
        "id": "-o4iRVqckhcr",
        "outputId": "e63f625b-6704-454c-fbe6-0dfe7ebdaf70"
      },
      "execution_count": null,
      "outputs": [
        {
          "output_type": "stream",
          "name": "stdout",
          "text": [
            "Una vez eliminados todos los ejemplos que tenian por lo menos un NaN, el shape del set de entrenamiento es: \n"
          ]
        },
        {
          "output_type": "execute_result",
          "data": {
            "text/plain": [
              "(3536, 27)"
            ]
          },
          "metadata": {},
          "execution_count": 162
        }
      ]
    },
    {
      "cell_type": "code",
      "source": [
        ""
      ],
      "metadata": {
        "id": "L7mXKQavD_Kc"
      },
      "execution_count": null,
      "outputs": []
    },
    {
      "cell_type": "markdown",
      "source": [
        "**One-hot encoding de variables categoricas:** En esta sección vamos a transformar las variables categoricas a one-hot encoding. Esto es importante para poder usarlas al entrenar un modelo mas adelante."
      ],
      "metadata": {
        "id": "mo4AoAPXwY6T"
      }
    },
    {
      "cell_type": "code",
      "source": [
        "\n",
        "#Ahora vamos a ver cuales features son categoricas, esto lo hacemos contando cuantos elementos unicos hay en cada columna\n",
        "cols=Clean_Data.columns.values\n",
        "dic={}\n",
        "for col in cols:\n",
        "  dic[col]=len(list(Clean_Data[col].unique()))\n",
        "\n",
        "print('-------------------------------')\n",
        "print('Variables y su numero de elementos unicos: ')\n",
        "print(dic)\n",
        "print('-------------------------------')\n",
        "print('Vemos que podemos decir que las variables categoricas son las siguientes: ')\n",
        "cat_cols=[\n",
        "          'Estado Cliente al final del periodo',\n",
        "          'Tipo Vivienda',\n",
        "          'Zona Instalacion',\n",
        "          'Distrito',\n",
        "          'Producto',\n",
        "          'Tecnologia',\n",
        "          'Metodo de Pago Estandarizado',\n",
        "          'Canal Estandarizado',\n",
        "          'Tipo Suscripcion',\n",
        "          'Campaña de Cobranza Actual'\n",
        "          ]\n",
        "print(cat_cols)\n",
        "print('-------------------------------')\n",
        "\n",
        "#Ahora vamos a cambiar todas las variables categoricas a one hot enconding\n",
        "Data_Encoded=Clean_Data\n",
        "for col in cat_cols:\n",
        "  one_hot=pd.get_dummies(Data_Encoded[col])\n",
        "  Data_Encoded=Data_Encoded.drop(col, axis=1)\n",
        "  Data_Encoded=Data_Encoded.join(one_hot)\n",
        "Data_Encoded.head(2)\n"
      ],
      "metadata": {
        "colab": {
          "base_uri": "https://localhost:8080/",
          "height": 288
        },
        "id": "jVcIQ9QfjBOb",
        "outputId": "b8368121-d4e7-4d57-e3a9-3f9d19c0549d"
      },
      "execution_count": null,
      "outputs": [
        {
          "output_type": "stream",
          "name": "stdout",
          "text": [
            "-------------------------------\n",
            "Variables y su numero de elementos unicos: \n",
            "{'Estado Cliente al final del periodo': 3, 'Churn Total': 2, 'Score A': 2564, 'Score B': 14, 'Tipo Vivienda': 2, 'Zona Instalacion': 3, 'Distrito': 6, 'Estrato Declarado': 6, 'Producto': 12, 'Premium Movie': 2, 'Premium OBH': 2, 'Premium Adultos': 2, 'Tecnologia': 4, 'Catidad Decodificadores': 6, 'Decodificadores Regular': 6, 'Decodificadores  DVR': 3, 'Decodificadores  HD': 5, 'Decodificadores  \"HD ONLY\"': 6, 'Metodo de Pago Estandarizado': 3, 'Antigüedad': 91, 'Canal Estandarizado': 4, 'Score Aprobación': 614, 'Tecnología GO': 2, 'Revista TELCO': 2, 'Cantidad Decodificadores Total': 6, 'Tipo Suscripcion': 3, 'Campaña de Cobranza Actual': 2}\n",
            "-------------------------------\n",
            "Vemos que podemos decir que las variables categoricas son las siguientes: \n",
            "['Estado Cliente al final del periodo', 'Tipo Vivienda', 'Zona Instalacion', 'Distrito', 'Producto', 'Tecnologia', 'Metodo de Pago Estandarizado', 'Canal Estandarizado', 'Tipo Suscripcion', 'Campaña de Cobranza Actual']\n",
            "-------------------------------\n"
          ]
        },
        {
          "output_type": "execute_result",
          "data": {
            "text/html": [
              "<div>\n",
              "<style scoped>\n",
              "    .dataframe tbody tr th:only-of-type {\n",
              "        vertical-align: middle;\n",
              "    }\n",
              "\n",
              "    .dataframe tbody tr th {\n",
              "        vertical-align: top;\n",
              "    }\n",
              "\n",
              "    .dataframe thead th {\n",
              "        text-align: right;\n",
              "    }\n",
              "</style>\n",
              "<table border=\"1\" class=\"dataframe\">\n",
              "  <thead>\n",
              "    <tr style=\"text-align: right;\">\n",
              "      <th></th>\n",
              "      <th>Churn Total</th>\n",
              "      <th>Score A</th>\n",
              "      <th>Score B</th>\n",
              "      <th>Estrato Declarado</th>\n",
              "      <th>Premium Movie</th>\n",
              "      <th>Premium OBH</th>\n",
              "      <th>Premium Adultos</th>\n",
              "      <th>Catidad Decodificadores</th>\n",
              "      <th>Decodificadores Regular</th>\n",
              "      <th>Decodificadores  DVR</th>\n",
              "      <th>Decodificadores  HD</th>\n",
              "      <th>Decodificadores  \"HD ONLY\"</th>\n",
              "      <th>Antigüedad</th>\n",
              "      <th>Score Aprobación</th>\n",
              "      <th>Tecnología GO</th>\n",
              "      <th>Revista TELCO</th>\n",
              "      <th>Cantidad Decodificadores Total</th>\n",
              "      <th>A - Activo</th>\n",
              "      <th>C - Cancelado</th>\n",
              "      <th>D - Desconectado</th>\n",
              "      <th>D - Normal Edificio</th>\n",
              "      <th>N- Normal Casa</th>\n",
              "      <th>EXTRARURAL</th>\n",
              "      <th>RURAL</th>\n",
              "      <th>URBANO</th>\n",
              "      <th>BOGOTA</th>\n",
              "      <th>CENTRO</th>\n",
              "      <th>NGOLDCCIDENTE</th>\n",
              "      <th>NORTE</th>\n",
              "      <th>OCCIDENTE</th>\n",
              "      <th>ORIENTE</th>\n",
              "      <th>BRONZE</th>\n",
              "      <th>BRONZE FULL</th>\n",
              "      <th>BRONZE MAX</th>\n",
              "      <th>Familiar</th>\n",
              "      <th>GOLD</th>\n",
              "      <th>GOLD FULL</th>\n",
              "      <th>GOLD MAX</th>\n",
              "      <th>Preferencial</th>\n",
              "      <th>Preferencial Total</th>\n",
              "      <th>SILVER</th>\n",
              "      <th>SILVER FULL</th>\n",
              "      <th>SILVER MAX</th>\n",
              "      <th>DVR</th>\n",
              "      <th>HD</th>\n",
              "      <th>HD_ONLY</th>\n",
              "      <th>REG</th>\n",
              "      <th>DA - Ahorros o Cte</th>\n",
              "      <th>DA - TC</th>\n",
              "      <th>INVOICE</th>\n",
              "      <th>Dealer</th>\n",
              "      <th>Directo</th>\n",
              "      <th>Nuevos Canales</th>\n",
              "      <th>Televentas (TP)</th>\n",
              "      <th>Bundle</th>\n",
              "      <th>Cross Selling</th>\n",
              "      <th>Only TV</th>\n",
              "      <th>DX35_riesgo_alto_y_muy_alto</th>\n",
              "      <th>DX35_riesgo_medio_y_bajo</th>\n",
              "    </tr>\n",
              "  </thead>\n",
              "  <tbody>\n",
              "    <tr>\n",
              "      <th>913</th>\n",
              "      <td>0</td>\n",
              "      <td>0.117720</td>\n",
              "      <td>21.0</td>\n",
              "      <td>2.0</td>\n",
              "      <td>0</td>\n",
              "      <td>0</td>\n",
              "      <td>0</td>\n",
              "      <td>2.0</td>\n",
              "      <td>2.0</td>\n",
              "      <td>0.0</td>\n",
              "      <td>0.0</td>\n",
              "      <td>0.0</td>\n",
              "      <td>15.0</td>\n",
              "      <td>649.0</td>\n",
              "      <td>0</td>\n",
              "      <td>0</td>\n",
              "      <td>2.0</td>\n",
              "      <td>1</td>\n",
              "      <td>0</td>\n",
              "      <td>0</td>\n",
              "      <td>1</td>\n",
              "      <td>0</td>\n",
              "      <td>0</td>\n",
              "      <td>0</td>\n",
              "      <td>1</td>\n",
              "      <td>0</td>\n",
              "      <td>1</td>\n",
              "      <td>0</td>\n",
              "      <td>0</td>\n",
              "      <td>0</td>\n",
              "      <td>0</td>\n",
              "      <td>0</td>\n",
              "      <td>0</td>\n",
              "      <td>0</td>\n",
              "      <td>0</td>\n",
              "      <td>0</td>\n",
              "      <td>0</td>\n",
              "      <td>0</td>\n",
              "      <td>0</td>\n",
              "      <td>0</td>\n",
              "      <td>0</td>\n",
              "      <td>0</td>\n",
              "      <td>1</td>\n",
              "      <td>0</td>\n",
              "      <td>0</td>\n",
              "      <td>0</td>\n",
              "      <td>1</td>\n",
              "      <td>0</td>\n",
              "      <td>0</td>\n",
              "      <td>1</td>\n",
              "      <td>1</td>\n",
              "      <td>0</td>\n",
              "      <td>0</td>\n",
              "      <td>0</td>\n",
              "      <td>0</td>\n",
              "      <td>0</td>\n",
              "      <td>1</td>\n",
              "      <td>0</td>\n",
              "      <td>1</td>\n",
              "    </tr>\n",
              "    <tr>\n",
              "      <th>915</th>\n",
              "      <td>0</td>\n",
              "      <td>0.111139</td>\n",
              "      <td>21.0</td>\n",
              "      <td>3.0</td>\n",
              "      <td>0</td>\n",
              "      <td>0</td>\n",
              "      <td>0</td>\n",
              "      <td>2.0</td>\n",
              "      <td>1.0</td>\n",
              "      <td>1.0</td>\n",
              "      <td>0.0</td>\n",
              "      <td>0.0</td>\n",
              "      <td>16.0</td>\n",
              "      <td>586.0</td>\n",
              "      <td>0</td>\n",
              "      <td>0</td>\n",
              "      <td>2.0</td>\n",
              "      <td>1</td>\n",
              "      <td>0</td>\n",
              "      <td>0</td>\n",
              "      <td>0</td>\n",
              "      <td>1</td>\n",
              "      <td>0</td>\n",
              "      <td>0</td>\n",
              "      <td>1</td>\n",
              "      <td>0</td>\n",
              "      <td>0</td>\n",
              "      <td>0</td>\n",
              "      <td>0</td>\n",
              "      <td>0</td>\n",
              "      <td>1</td>\n",
              "      <td>0</td>\n",
              "      <td>0</td>\n",
              "      <td>0</td>\n",
              "      <td>0</td>\n",
              "      <td>0</td>\n",
              "      <td>0</td>\n",
              "      <td>0</td>\n",
              "      <td>0</td>\n",
              "      <td>0</td>\n",
              "      <td>0</td>\n",
              "      <td>0</td>\n",
              "      <td>1</td>\n",
              "      <td>1</td>\n",
              "      <td>0</td>\n",
              "      <td>0</td>\n",
              "      <td>0</td>\n",
              "      <td>0</td>\n",
              "      <td>0</td>\n",
              "      <td>1</td>\n",
              "      <td>1</td>\n",
              "      <td>0</td>\n",
              "      <td>0</td>\n",
              "      <td>0</td>\n",
              "      <td>1</td>\n",
              "      <td>0</td>\n",
              "      <td>0</td>\n",
              "      <td>0</td>\n",
              "      <td>1</td>\n",
              "    </tr>\n",
              "  </tbody>\n",
              "</table>\n",
              "</div>"
            ],
            "text/plain": [
              "     Churn Total  ...  DX35_riesgo_medio_y_bajo\n",
              "913            0  ...                         1\n",
              "915            0  ...                         1\n",
              "\n",
              "[2 rows x 59 columns]"
            ]
          },
          "metadata": {},
          "execution_count": 163
        }
      ]
    },
    {
      "cell_type": "code",
      "source": [
        "#Despues de este procedimiento tenemos la nueva shape del set de entrenamiento!\n",
        "print('New training shape after cleaning and encoding: ')\n",
        "print(str(Data_Encoded.shape))"
      ],
      "metadata": {
        "colab": {
          "base_uri": "https://localhost:8080/"
        },
        "id": "4HzOO0i9uFSL",
        "outputId": "7d7a1557-01f5-4b96-f57a-f201be62dec0"
      },
      "execution_count": null,
      "outputs": [
        {
          "output_type": "stream",
          "name": "stdout",
          "text": [
            "New training shape after cleaning and encoding: \n",
            "(3536, 59)\n"
          ]
        }
      ]
    },
    {
      "cell_type": "markdown",
      "source": [
        "**Random forest para determinar feature importance**"
      ],
      "metadata": {
        "id": "LgoPK3QfFOF9"
      }
    },
    {
      "cell_type": "code",
      "source": [
        "\n",
        "from sklearn.ensemble import RandomForestClassifier\n",
        "nombre_features=Data_Encoded.columns.values[1:]\n",
        "\n",
        "y_train=Data_Encoded['Churn Total']\n",
        "x_train=Data_Encoded[Data_Encoded.columns[1:]]\n",
        "RFC=RandomForestClassifier()\n",
        "RFC.fit(x_train, y_train)"
      ],
      "metadata": {
        "colab": {
          "base_uri": "https://localhost:8080/"
        },
        "id": "GQU3R57Enc48",
        "outputId": "f25545b7-ddd2-4c37-998c-7b7e10a93a6d"
      },
      "execution_count": null,
      "outputs": [
        {
          "output_type": "execute_result",
          "data": {
            "text/plain": [
              "RandomForestClassifier()"
            ]
          },
          "metadata": {},
          "execution_count": 180
        }
      ]
    },
    {
      "cell_type": "code",
      "source": [
        "importances=RFC.feature_importances_\n",
        "std = np.std([tree.feature_importances_ for tree in RFC.estimators_], axis=0)"
      ],
      "metadata": {
        "id": "UVTHoreTP5bD"
      },
      "execution_count": null,
      "outputs": []
    },
    {
      "cell_type": "markdown",
      "source": [
        ""
      ],
      "metadata": {
        "id": "HgcJFEbXJu4c"
      }
    },
    {
      "cell_type": "code",
      "source": [
        "forest_importances= pd.Series(importances, index=nombre_features)\n",
        "fig,ax =plt.subplots(figsize=(20,5))\n",
        "forest_importances.plot.bar(yerr=std, ax=ax)\n"
      ],
      "metadata": {
        "colab": {
          "base_uri": "https://localhost:8080/",
          "height": 481
        },
        "id": "ODbPAGhCPm6g",
        "outputId": "c426db82-988c-46d2-858b-3976dbad3993"
      },
      "execution_count": null,
      "outputs": [
        {
          "output_type": "execute_result",
          "data": {
            "text/plain": [
              "<matplotlib.axes._subplots.AxesSubplot at 0x7f0021938390>"
            ]
          },
          "metadata": {},
          "execution_count": 191
        },
        {
          "output_type": "display_data",
          "data": {
            "image/png": "[encoded data removed]",
            "text/plain": [
              "<Figure size 1440x360 with 1 Axes>"
            ]
          },
          "metadata": {
            "needs_background": "light"
          }
        }
      ]
    },
    {
      "cell_type": "code",
      "source": [
        ""
      ],
      "metadata": {
        "id": "1XeBE8iWROj1"
      },
      "execution_count": null,
      "outputs": []
    },
    {
      "cell_type": "code",
      "source": [
        ""
      ],
      "metadata": {
        "id": "TE0A0TPWRcFC"
      },
      "execution_count": null,
      "outputs": []
    }
  ]
}